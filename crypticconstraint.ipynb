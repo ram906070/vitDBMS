{
 "cells": [
  {
   "cell_type": "code",
   "execution_count": null,
   "id": "2a10f7d4-88c1-4905-a5c3-633a1193ae8d",
   "metadata": {},
   "outputs": [],
   "source": [
    "from itertools import combinations, permutations\n",
    "def replacements():\n",
    "    for comb in combinations(range(10), 8):\n",
    "        for perm in permutations(comb):\n",
    "            if perm[0] * perm[1] != 0:\n",
    "                yield dict(zip('BASELGMS', perm))\n",
    "a, b, c = 'BASE', 'BALL', 'GAMES'\n",
    "for replacement in replacements():\n",
    "    f = lambda x: sum(replacement[e] * 10**i for i, e in enumerate(x[::-1]))\n",
    "    if f(a) + f(b) == f(c):\n",
    "        print('{} + {} = {}'.format(f(a), f(b), f(c)))"
   ]
  }
 ],
 "metadata": {
  "kernelspec": {
   "display_name": "Python 3 (ipykernel)",
   "language": "python",
   "name": "python3"
  },
  "language_info": {
   "codemirror_mode": {
    "name": "ipython",
    "version": 3
   },
   "file_extension": ".py",
   "mimetype": "text/x-python",
   "name": "python",
   "nbconvert_exporter": "python",
   "pygments_lexer": "ipython3",
   "version": "3.11.7"
  }
 },
 "nbformat": 4,
 "nbformat_minor": 5
}
