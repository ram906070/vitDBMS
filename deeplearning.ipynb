{
 "cells": [
  {
   "cell_type": "code",
   "execution_count": 10,
   "id": "c66224b6-1cff-476e-bbe7-79d658357337",
   "metadata": {},
   "outputs": [
    {
     "name": "stderr",
     "output_type": "stream",
     "text": [
      "C:\\Users\\DELL.000\\anaconda3\\Lib\\site-packages\\sklearn\\cluster\\_kmeans.py:870: FutureWarning: The default value of `n_init` will change from 10 to 'auto' in 1.4. Set the value of `n_init` explicitly to suppress the warning\n",
      "  warnings.warn(\n",
      "C:\\Users\\DELL.000\\anaconda3\\Lib\\site-packages\\sklearn\\cluster\\_kmeans.py:1382: UserWarning: KMeans is known to have a memory leak on Windows with MKL, when there are less chunks than available threads. You can avoid it by setting the environment variable OMP_NUM_THREADS=1.\n",
      "  warnings.warn(\n",
      "C:\\Users\\DELL.000\\anaconda3\\Lib\\site-packages\\sklearn\\cluster\\_kmeans.py:870: FutureWarning: The default value of `n_init` will change from 10 to 'auto' in 1.4. Set the value of `n_init` explicitly to suppress the warning\n",
      "  warnings.warn(\n",
      "C:\\Users\\DELL.000\\anaconda3\\Lib\\site-packages\\sklearn\\cluster\\_kmeans.py:1382: UserWarning: KMeans is known to have a memory leak on Windows with MKL, when there are less chunks than available threads. You can avoid it by setting the environment variable OMP_NUM_THREADS=1.\n",
      "  warnings.warn(\n"
     ]
    },
    {
     "name": "stdout",
     "output_type": "stream",
     "text": [
      "Iteration 1:\n",
      "[0 1 0 0 1 0 1 0 2 2 1 2 1 2 2 2 1 0 0 0 2 0 0 0 2 0 1 0 1 2 1 1 0 0 2 2 2\n",
      " 1 1 0 0 1 2 0 2 2 2 0 2 1 2 2 2 0 2 1 0 0 2 0 1 2 1 2 2 2 2 2 2 0 2 2 0 2\n",
      " 2 0 1 2 2 0 2 0 1 0 0 1 2 0 2 1 1 0 2 2 1 0 0 1 0 2]\n",
      "\n",
      "Iteration 2:\n",
      "[0 1 0 0 1 0 1 0 2 2 1 2 1 2 2 2 1 0 0 0 2 0 0 0 2 0 1 0 1 2 1 1 0 0 2 2 2\n",
      " 1 1 0 0 1 2 0 2 2 2 0 2 1 2 2 2 0 2 1 0 0 2 0 1 2 1 2 2 2 2 2 2 0 2 2 0 2\n",
      " 2 0 1 2 2 0 2 0 1 0 0 1 2 0 2 1 1 0 2 2 1 0 0 1 0 2]\n",
      "\n"
     ]
    },
    {
     "name": "stderr",
     "output_type": "stream",
     "text": [
      "C:\\Users\\DELL.000\\anaconda3\\Lib\\site-packages\\sklearn\\cluster\\_kmeans.py:870: FutureWarning: The default value of `n_init` will change from 10 to 'auto' in 1.4. Set the value of `n_init` explicitly to suppress the warning\n",
      "  warnings.warn(\n",
      "C:\\Users\\DELL.000\\anaconda3\\Lib\\site-packages\\sklearn\\cluster\\_kmeans.py:1382: UserWarning: KMeans is known to have a memory leak on Windows with MKL, when there are less chunks than available threads. You can avoid it by setting the environment variable OMP_NUM_THREADS=1.\n",
      "  warnings.warn(\n",
      "C:\\Users\\DELL.000\\anaconda3\\Lib\\site-packages\\sklearn\\cluster\\_kmeans.py:870: FutureWarning: The default value of `n_init` will change from 10 to 'auto' in 1.4. Set the value of `n_init` explicitly to suppress the warning\n",
      "  warnings.warn(\n",
      "C:\\Users\\DELL.000\\anaconda3\\Lib\\site-packages\\sklearn\\cluster\\_kmeans.py:1382: UserWarning: KMeans is known to have a memory leak on Windows with MKL, when there are less chunks than available threads. You can avoid it by setting the environment variable OMP_NUM_THREADS=1.\n",
      "  warnings.warn(\n"
     ]
    },
    {
     "name": "stdout",
     "output_type": "stream",
     "text": [
      "Iteration 3:\n",
      "[0 1 0 0 1 0 1 0 2 2 1 2 1 2 2 2 1 0 0 0 2 0 0 0 2 0 1 0 1 2 1 1 0 0 2 2 2\n",
      " 1 1 0 0 1 2 0 2 2 2 0 2 1 2 2 2 0 2 1 0 0 2 0 1 2 1 2 2 2 2 2 2 0 2 2 0 2\n",
      " 2 0 1 2 2 0 2 0 1 0 0 1 2 0 2 1 1 0 2 2 1 0 0 1 0 2]\n",
      "\n",
      "Iteration 4:\n",
      "[0 1 0 0 1 0 1 0 2 2 1 2 1 2 2 2 1 0 0 0 2 0 0 0 2 0 1 0 1 2 1 1 0 0 2 2 2\n",
      " 1 1 0 0 1 2 0 2 2 2 0 2 1 2 2 2 0 2 1 0 0 2 0 1 2 1 2 2 2 2 2 2 0 2 2 0 2\n",
      " 2 0 1 2 2 0 2 0 1 0 0 1 2 0 2 1 1 0 2 2 1 0 0 1 0 2]\n",
      "\n",
      "Iteration 5:\n",
      "[0 1 0 0 1 0 1 0 2 2 1 2 1 2 2 2 1 0 0 0 2 0 0 0 2 0 1 0 1 2 1 1 0 0 2 2 2\n",
      " 1 1 0 0 1 2 0 2 2 2 0 2 1 2 2 2 0 2 1 0 0 2 0 1 2 1 2 2 2 2 2 2 0 2 2 0 2\n",
      " 2 0 1 2 2 0 2 0 1 0 0 1 2 0 2 1 1 0 2 2 1 0 0 1 0 2]\n",
      "\n"
     ]
    },
    {
     "name": "stderr",
     "output_type": "stream",
     "text": [
      "C:\\Users\\DELL.000\\anaconda3\\Lib\\site-packages\\sklearn\\cluster\\_kmeans.py:870: FutureWarning: The default value of `n_init` will change from 10 to 'auto' in 1.4. Set the value of `n_init` explicitly to suppress the warning\n",
      "  warnings.warn(\n",
      "C:\\Users\\DELL.000\\anaconda3\\Lib\\site-packages\\sklearn\\cluster\\_kmeans.py:1382: UserWarning: KMeans is known to have a memory leak on Windows with MKL, when there are less chunks than available threads. You can avoid it by setting the environment variable OMP_NUM_THREADS=1.\n",
      "  warnings.warn(\n"
     ]
    }
   ],
   "source": [
    "import numpy as np\n",
    "from sklearn.manifold import TSNE\n",
    "from sklearn.cluster import KMeans\n",
    "\n",
    "# Generate random data\n",
    "np.random.seed(0)\n",
    "X = np.random.randn(100, 5)\n",
    "\n",
    "# Perform t-SNE dimensionality reduction\n",
    "tsne = TSNE(n_components=2, random_state=0)\n",
    "X_embedded = tsne.fit_transform(X)\n",
    "\n",
    "# Perform KMeans clustering\n",
    "kmeans = KMeans(n_clusters=3, random_state=0)\n",
    "\n",
    "# Manually iterate over a few steps and observe the changing cluster assignments\n",
    "for i in range(5):  # Simulating 5 \"epochs\"\n",
    "    y_pred = kmeans.fit_predict(X)\n",
    "    print(f\"Iteration {i+1}:\")\n",
    "    print(y_pred)\n",
    "    print()  # For spacing between epochs\n"
   ]
  },
  {
   "cell_type": "code",
   "execution_count": 7,
   "id": "94303f0e-b2f9-4ba4-8224-4a59920ce4d1",
   "metadata": {},
   "outputs": [
    {
     "ename": "SyntaxError",
     "evalue": "invalid syntax (2032918415.py, line 1)",
     "output_type": "error",
     "traceback": [
      "\u001b[1;36m  Cell \u001b[1;32mIn[7], line 1\u001b[1;36m\u001b[0m\n\u001b[1;33m    pip install tensorflow\u001b[0m\n\u001b[1;37m        ^\u001b[0m\n\u001b[1;31mSyntaxError\u001b[0m\u001b[1;31m:\u001b[0m invalid syntax\n"
     ]
    }
   ],
   "source": [
    "pip install tensorflow\n",
    "\n"
   ]
  },
  {
   "cell_type": "code",
   "execution_count": null,
   "id": "11900820-4a0b-4bb0-8e8c-dbb96171055c",
   "metadata": {},
   "outputs": [],
   "source": []
  }
 ],
 "metadata": {
  "kernelspec": {
   "display_name": "Python 3 (ipykernel)",
   "language": "python",
   "name": "python3"
  },
  "language_info": {
   "codemirror_mode": {
    "name": "ipython",
    "version": 3
   },
   "file_extension": ".py",
   "mimetype": "text/x-python",
   "name": "python",
   "nbconvert_exporter": "python",
   "pygments_lexer": "ipython3",
   "version": "3.11.7"
  }
 },
 "nbformat": 4,
 "nbformat_minor": 5
}
