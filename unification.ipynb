{
 "cells": [
  {
   "cell_type": "code",
   "execution_count": 1,
   "id": "c9163dd0-4a8f-46c3-b1f7-d68385210fc5",
   "metadata": {},
   "outputs": [
    {
     "name": "stdout",
     "output_type": "stream",
     "text": [
      "The unification is successful. Substitution = {'X': 'Moksha', 'Y': 'Vineela'}\n"
     ]
    }
   ],
   "source": [
    "def unify(statement1, statement2):\n",
    "    # Split statements into words\n",
    "    words1 = statement1.split()\n",
    "    words2 = statement2.split()\n",
    "\n",
    "    # Initialize an empty substitution dictionary\n",
    "    substitution = {}\n",
    "\n",
    "    # Iterate over the words in both statements\n",
    "    for word1, word2 in zip(words1, words2):\n",
    "        # If a word in statement 2 is a variable, assign its value based on statement 1\n",
    "        if word2.isalpha() and word2[0].isupper():\n",
    "            substitution[word2] = word1\n",
    "        # If words don't match and neither is a variable, unification is not possible\n",
    "        elif word1 != word2:\n",
    "            return None\n",
    "\n",
    "    # Return the substitution dictionary\n",
    "    return substitution\n",
    "\n",
    "# Given statements\n",
    "statement1 = \"Moksha and Vineela are sisters\"\n",
    "statement2 = \"X and Y are sisters\"\n",
    "\n",
    "# Unify statement 2 with statement 1\n",
    "result = unify(statement1, statement2)\n",
    "\n",
    "# Print the result\n",
    "if result:\n",
    "    print(\"The unification is successful. Substitution =\", result)\n",
    "else:\n",
    "    print(\"Unification failed.\")"
   ]
  },
  {
   "cell_type": "code",
   "execution_count": null,
   "id": "47b684ba-938a-4047-9cce-91983f337eb4",
   "metadata": {},
   "outputs": [],
   "source": []
  }
 ],
 "metadata": {
  "kernelspec": {
   "display_name": "Python 3 (ipykernel)",
   "language": "python",
   "name": "python3"
  },
  "language_info": {
   "codemirror_mode": {
    "name": "ipython",
    "version": 3
   },
   "file_extension": ".py",
   "mimetype": "text/x-python",
   "name": "python",
   "nbconvert_exporter": "python",
   "pygments_lexer": "ipython3",
   "version": "3.11.7"
  }
 },
 "nbformat": 4,
 "nbformat_minor": 5
}
