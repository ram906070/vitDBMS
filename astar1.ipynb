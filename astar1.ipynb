{
 "cells": [
  {
   "cell_type": "code",
   "execution_count": 1,
   "metadata": {
    "collapsed": false,
    "jupyter": {
     "outputs_hidden": false
    }
   },
   "outputs": [
    {
     "name": "stdout",
     "output_type": "stream",
     "text": [
      "Performing best-first search from A to F:\n",
      "Path from A to F :\n",
      "A -> C -> E -> D -> F -> end\n"
     ]
    }
   ],
   "source": [
    "from queue import PriorityQueue\n",
    "\n",
    "class Graph:\n",
    "    def __init__(self):\n",
    "        self.graph = {}\n",
    "\n",
    "    def add_edge(self, start, end, weight):\n",
    "        if start not in self.graph:\n",
    "            self.graph[start] = []\n",
    "        self.graph[start].append((end, weight))\n",
    "\n",
    "        if end not in self.graph:\n",
    "            self.graph[end] = []\n",
    "        self.graph[end].append((start, weight))\n",
    "\n",
    "    def best_first_search(self, start, goal):\n",
    "        visited = set()\n",
    "        priority_queue = PriorityQueue()\n",
    "        priority_queue.put((0, start))\n",
    "        path = {start: None}\n",
    "\n",
    "        while not priority_queue.empty():\n",
    "            cost, current_node = priority_queue.get()\n",
    "\n",
    "            if current_node in visited:\n",
    "                continue\n",
    "\n",
    "            visited.add(current_node)\n",
    "\n",
    "            if current_node == goal:\n",
    "                print(\"Path from\", start, \"to\", goal, \":\")\n",
    "                self.print_path(path, goal)\n",
    "                break\n",
    "\n",
    "            for neighbor, edge_cost in self.graph[current_node]:\n",
    "                if neighbor not in visited:\n",
    "                    priority_queue.put((edge_cost, neighbor))\n",
    "                    if neighbor not in path:\n",
    "                        path[neighbor] = current_node\n",
    "\n",
    "    def print_path(self, path, current_node):\n",
    "        if current_node is not None:\n",
    "            self.print_path(path, path[current_node])\n",
    "            print(current_node, end=\" -> \")\n",
    "\n",
    "if __name__ == \"__main__\":\n",
    "    network = Graph()\n",
    "    network.add_edge('A', 'C', 2)\n",
    "    network.add_edge('A', 'B', 4)\n",
    "    network.add_edge('B', 'D', 10)\n",
    "    network.add_edge('C', 'E', 3)\n",
    "    network.add_edge('D', 'F', 11)\n",
    "    network.add_edge('E', 'D', 4)\n",
    "    network.add_edge('B', 'C', 5)\n",
    "\n",
    "    start_node = 'A'\n",
    "    goal_node = 'F'\n",
    "\n",
    "    print(f\"Performing best-first search from {start_node} to {goal_node}:\")\n",
    "    network.best_first_search(start_node, goal_node)\n",
    "    print(\"end\")"
   ]
  },
  {
   "cell_type": "code",
   "execution_count": null,
   "metadata": {
    "collapsed": false,
    "jupyter": {
     "outputs_hidden": false
    }
   },
   "outputs": [],
   "source": []
  }
 ],
 "metadata": {
  "kernelspec": {
   "display_name": "Python 3 (ipykernel)",
   "language": "python",
   "name": "python3"
  },
  "language_info": {
   "codemirror_mode": {
    "name": "ipython",
    "version": 3
   },
   "file_extension": ".py",
   "mimetype": "text/x-python",
   "name": "python",
   "nbconvert_exporter": "python",
   "pygments_lexer": "ipython3",
   "version": "3.11.7"
  }
 },
 "nbformat": 4,
 "nbformat_minor": 4
}
